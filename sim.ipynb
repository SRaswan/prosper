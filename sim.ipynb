{
 "cells": [
  {
   "cell_type": "code",
   "execution_count": 73,
   "metadata": {},
   "outputs": [],
   "source": [
    "import numpy as np\n",
    "import matplotlib.pyplot as plt"
   ]
  },
  {
   "cell_type": "markdown",
   "metadata": {},
   "source": [
    "Define some variables for later"
   ]
  },
  {
   "cell_type": "code",
   "execution_count": 74,
   "metadata": {},
   "outputs": [],
   "source": [
    "NUM_TRIALS = 10\n",
    "NUM_GOLDFISH = 10_000\n",
    "SELL_PRICE = 1000"
   ]
  },
  {
   "cell_type": "markdown",
   "metadata": {},
   "source": [
    "Test reserve price distribution generation"
   ]
  },
  {
   "cell_type": "code",
   "execution_count": 75,
   "metadata": {},
   "outputs": [
    {
     "data": {
      "image/png": "[encoded data removed]",
      "text/plain": [
       "<Figure size 640x480 with 1 Axes>"
      ]
     },
     "metadata": {},
     "output_type": "display_data"
    },
    {
     "data": {
      "text/plain": [
       "966.6083257842165"
      ]
     },
     "execution_count": 75,
     "metadata": {},
     "output_type": "execute_result"
    }
   ],
   "source": [
    "rng = np.random.default_rng()\n",
    "reserve_prices = rng.triangular(left=900, mode=1000, right=1000, size=NUM_GOLDFISH)\n",
    "h = plt.hist(reserve_prices, bins=200,\n",
    "             density=True)\n",
    "plt.show()\n",
    "np.mean(reserve_prices)"
   ]
  },
  {
   "cell_type": "markdown",
   "metadata": {},
   "source": [
    "Monte Carlo simulation"
   ]
  },
  {
   "cell_type": "code",
   "execution_count": 76,
   "metadata": {},
   "outputs": [],
   "source": [
    "LOW_BID = 952\n",
    "HIGH_BID = 978\n",
    "\n",
    "rand_seeds = np.arange(1, 11)\n",
    "num_bid_accepts = np.full((NUM_TRIALS, ), NUM_GOLDFISH)\n",
    "total_profits = np.zeros(NUM_TRIALS)\n",
    "\n",
    "for t in range(NUM_TRIALS):\n",
    "    rng = np.random.default_rng(seed=rand_seeds[t])\n",
    "    reserve_prices = rng.triangular(left=900, mode=1000, right=1000, size=NUM_GOLDFISH)\n",
    "    total_profit = 0\n",
    "    for r in reserve_prices:\n",
    "        if LOW_BID >= r:\n",
    "            total_profit += SELL_PRICE - LOW_BID\n",
    "        elif HIGH_BID >= r:\n",
    "            total_profit += SELL_PRICE - HIGH_BID\n",
    "        else:\n",
    "            num_bid_accepts[t] -= 1\n",
    "    total_profits[t] = total_profit"
   ]
  },
  {
   "cell_type": "code",
   "execution_count": 77,
   "metadata": {},
   "outputs": [
    {
     "data": {
      "text/plain": [
       "array([203370., 204114., 205542., 202486., 205768., 205544., 203506.,\n",
       "       199334., 204434., 202786.])"
      ]
     },
     "execution_count": 77,
     "metadata": {},
     "output_type": "execute_result"
    }
   ],
   "source": [
    "total_profits"
   ]
  },
  {
   "cell_type": "code",
   "execution_count": 78,
   "metadata": {},
   "outputs": [
    {
     "data": {
      "text/plain": [
       "array([6065, 6048, 6094, 6052, 6135, 6113, 6044, 6034, 6098, 6081])"
      ]
     },
     "execution_count": 78,
     "metadata": {},
     "output_type": "execute_result"
    }
   ],
   "source": [
    "num_bid_accepts"
   ]
  },
  {
   "cell_type": "markdown",
   "metadata": {},
   "source": [
    "Average profit per trade"
   ]
  },
  {
   "cell_type": "code",
   "execution_count": 79,
   "metadata": {},
   "outputs": [
    {
     "data": {
      "text/plain": [
       "33.52122967546574"
      ]
     },
     "execution_count": 79,
     "metadata": {},
     "output_type": "execute_result"
    }
   ],
   "source": [
    "np.mean(total_profits) / np.mean(num_bid_accepts)"
   ]
  },
  {
   "cell_type": "markdown",
   "metadata": {},
   "source": [
    "Average profit per fish"
   ]
  },
  {
   "cell_type": "code",
   "execution_count": 80,
   "metadata": {},
   "outputs": [
    {
     "data": {
      "text/plain": [
       "20.36884"
      ]
     },
     "execution_count": 80,
     "metadata": {},
     "output_type": "execute_result"
    }
   ],
   "source": [
    "np.mean(total_profits) / NUM_GOLDFISH"
   ]
  }
 ],
 "metadata": {
  "kernelspec": {
   "display_name": ".venv",
   "language": "python",
   "name": "python3"
  },
  "language_info": {
   "codemirror_mode": {
    "name": "ipython",
    "version": 3
   },
   "file_extension": ".py",
   "mimetype": "text/x-python",
   "name": "python",
   "nbconvert_exporter": "python",
   "pygments_lexer": "ipython3",
   "version": "3.12.2"
  }
 },
 "nbformat": 4,
 "nbformat_minor": 2
}
