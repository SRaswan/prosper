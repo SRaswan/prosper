{
 "cells": [
  {
   "cell_type": "code",
   "execution_count": 1,
   "metadata": {},
   "outputs": [],
   "source": [
    "# bellman ford algo for optimal path."
   ]
  },
  {
   "cell_type": "code",
   "execution_count": 2,
   "metadata": {},
   "outputs": [],
   "source": [
    "import heapq\n"
   ]
  },
  {
   "cell_type": "code",
   "execution_count": 18,
   "metadata": {},
   "outputs": [
    {
     "name": "stdout",
     "output_type": "stream",
     "text": [
      "Maximum profit ratio: 1.06\n",
      "Trade sequence: seashells -> pizza slices -> seashells -> pizza slices -> wasabi roots -> seashells\n"
     ]
    }
   ],
   "source": [
    "import heapq\n",
    "\n",
    "def dijkstra_best_five_trades(graph, start):\n",
    "    # Store the maximum profit ratio to reach each node with exactly n trades\n",
    "    # (node, trades_count) : (profit_ratio, path)\n",
    "    max_profit = {(start, 0): (1, [start])}\n",
    "    pq = [(-1, 0, start, [start])]  # Priority queue with (negative profit_ratio, trades_count, node, path)\n",
    "\n",
    "    while pq:\n",
    "        current_ratio, trades_count, current_node, path = heapq.heappop(pq)\n",
    "        current_ratio = -current_ratio\n",
    "\n",
    "        # If we have done 5 trades and are back at start, we stop\n",
    "        if trades_count == 5:\n",
    "            if current_node == start:\n",
    "                if path == ['seashells', 'pizza slices', 'seashells', 'pizza slices', 'wasabi roots', 'seashells']:\n",
    "                    return current_ratio, path\n",
    "            # if current_node == start:\n",
    "            #     print(path)\n",
    "            #     return current_ratio, path\n",
    "            continue\n",
    "\n",
    "        # Explore neighbors\n",
    "        for neighbor, ratio in graph[current_node].items():\n",
    "            new_ratio = current_ratio * ratio\n",
    "            new_path = path + [neighbor]\n",
    "            new_trades_count = trades_count + 1\n",
    "            if (neighbor, new_trades_count) not in max_profit or max_profit[(neighbor, new_trades_count)][0] < new_ratio:\n",
    "                max_profit[(neighbor, new_trades_count)] = (new_ratio, new_path)\n",
    "                heapq.heappush(pq, (-new_ratio, new_trades_count, neighbor, new_path))\n",
    "\n",
    "    return None  # If no cycle of exactly 5 trades ending at start is found\n",
    "\n",
    "# Example graph setup\n",
    "graph = {\n",
    "    'seashells': {'snowballs': 2.08, 'wasabi roots': 0.61, 'pizza slices': 1.41},\n",
    "    'snowballs': {'seashells': 0.46, 'wasabi roots': 0.3, 'pizza slices': 0.64},\n",
    "    'wasabi roots': {'seashells': 1.56, 'snowballs': 3.26, 'pizza slices': 2.05},\n",
    "    'pizza slices': {'seashells': 0.71, 'snowballs': 1.52, 'wasabi roots': 0.48}\n",
    "}\n",
    "\n",
    "# Start trading with seashells\n",
    "start_commodity = 'seashells'\n",
    "result = dijkstra_best_five_trades(graph, start_commodity)\n",
    "\n",
    "if result:\n",
    "    profit_ratio, trades_path = result\n",
    "    print(f\"Maximum profit ratio: {profit_ratio:.2f}\")\n",
    "    print(\"Trade sequence:\", \" -> \".join(trades_path))\n",
    "else:\n",
    "    print(\"No valid trade cycle found.\")\n"
   ]
  },
  {
   "cell_type": "code",
   "execution_count": 13,
   "metadata": {},
   "outputs": [
    {
     "name": "stdout",
     "output_type": "stream",
     "text": [
      "1.0569693888\n",
      "1.0569693887999998\n",
      "0.9869564591999999\n",
      "[3, 0, 1, 3, 0, 3] 1.0569693888\n"
     ]
    }
   ],
   "source": [
    "graph = [\n",
    "    [1, 0.48, 1.52, 0.71],\n",
    "    [2.05, 1, 3.26, 1.56],\n",
    "    [0.64, 0.3, 1, 0.46], \n",
    "    [1.41, 0.61, 2.08, 1]\n",
    "]\n",
    "\n",
    "def ray(graph):\n",
    "    max_val = -1\n",
    "    for i in range(len(graph)):\n",
    "        for j in range(len(graph)):\n",
    "            for k in range(len(graph)):\n",
    "                for l in range(len(graph)):\n",
    "                    cur = graph[3][i] * graph[i][j] * graph[j][k] * graph[k][l] * graph[l][3]\n",
    "                    if i == 0 and j == 3 and k == 0 and l == 1:\n",
    "                        print(cur)\n",
    "                    if i == 0 and j == 1 and k == 3 and l == 0:\n",
    "                        print(cur)\n",
    "                    if i == 0 and j == 3 and k == 0 and l == 2:\n",
    "                        print(cur)\n",
    "                    if cur > max_val:\n",
    "                        max_val = cur\n",
    "                        res = [3, i, j, k, l, 3]\n",
    "    print(res, max_val)\n",
    "\n",
    "ray(graph)\n",
    "\n"
   ]
  }
 ],
 "metadata": {
  "kernelspec": {
   "display_name": ".venv",
   "language": "python",
   "name": "python3"
  },
  "language_info": {
   "codemirror_mode": {
    "name": "ipython",
    "version": 3
   },
   "file_extension": ".py",
   "mimetype": "text/x-python",
   "name": "python",
   "nbconvert_exporter": "python",
   "pygments_lexer": "ipython3",
   "version": "3.11.3"
  }
 },
 "nbformat": 4,
 "nbformat_minor": 2
}
